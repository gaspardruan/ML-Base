{
 "cells": [
  {
   "metadata": {},
   "cell_type": "markdown",
   "source": "# 1. Anomaly Detection",
   "id": "48235ec20b6431d4"
  },
  {
   "cell_type": "code",
   "id": "initial_id",
   "metadata": {
    "collapsed": true,
    "ExecuteTime": {
     "end_time": "2024-06-17T03:24:19.333279Z",
     "start_time": "2024-06-17T03:24:19.313377Z"
    }
   },
   "source": [
    "import pandas as pd\n",
    "import numpy as np\n",
    "\n",
    "data = pd.read_csv('data_class_raw.csv')\n",
    "data.head()"
   ],
   "outputs": [
    {
     "data": {
      "text/plain": [
       "     x1    x2  y\n",
       "0  0.77  3.97  0\n",
       "1  1.71  2.81  0\n",
       "2  2.18  1.31  0\n",
       "3  3.80  0.69  0\n",
       "4  5.21  1.14  0"
      ],
      "text/html": [
       "<div>\n",
       "<style scoped>\n",
       "    .dataframe tbody tr th:only-of-type {\n",
       "        vertical-align: middle;\n",
       "    }\n",
       "\n",
       "    .dataframe tbody tr th {\n",
       "        vertical-align: top;\n",
       "    }\n",
       "\n",
       "    .dataframe thead th {\n",
       "        text-align: right;\n",
       "    }\n",
       "</style>\n",
       "<table border=\"1\" class=\"dataframe\">\n",
       "  <thead>\n",
       "    <tr style=\"text-align: right;\">\n",
       "      <th></th>\n",
       "      <th>x1</th>\n",
       "      <th>x2</th>\n",
       "      <th>y</th>\n",
       "    </tr>\n",
       "  </thead>\n",
       "  <tbody>\n",
       "    <tr>\n",
       "      <th>0</th>\n",
       "      <td>0.77</td>\n",
       "      <td>3.97</td>\n",
       "      <td>0</td>\n",
       "    </tr>\n",
       "    <tr>\n",
       "      <th>1</th>\n",
       "      <td>1.71</td>\n",
       "      <td>2.81</td>\n",
       "      <td>0</td>\n",
       "    </tr>\n",
       "    <tr>\n",
       "      <th>2</th>\n",
       "      <td>2.18</td>\n",
       "      <td>1.31</td>\n",
       "      <td>0</td>\n",
       "    </tr>\n",
       "    <tr>\n",
       "      <th>3</th>\n",
       "      <td>3.80</td>\n",
       "      <td>0.69</td>\n",
       "      <td>0</td>\n",
       "    </tr>\n",
       "    <tr>\n",
       "      <th>4</th>\n",
       "      <td>5.21</td>\n",
       "      <td>1.14</td>\n",
       "      <td>0</td>\n",
       "    </tr>\n",
       "  </tbody>\n",
       "</table>\n",
       "</div>"
      ]
     },
     "execution_count": 25,
     "metadata": {},
     "output_type": "execute_result"
    }
   ],
   "execution_count": 25
  },
  {
   "metadata": {
    "ExecuteTime": {
     "end_time": "2024-06-17T03:24:19.404906Z",
     "start_time": "2024-06-17T03:24:19.392086Z"
    }
   },
   "cell_type": "code",
   "source": [
    "x = data.drop('y', axis=1)\n",
    "x1 = x.loc[:, 'x1']\n",
    "x2 = x.loc[:, 'x2']\n",
    "y = data.loc[:, 'y']"
   ],
   "id": "54dd9ed74fadcd50",
   "outputs": [],
   "execution_count": 26
  },
  {
   "metadata": {
    "ExecuteTime": {
     "end_time": "2024-06-17T03:24:19.593095Z",
     "start_time": "2024-06-17T03:24:19.407913Z"
    }
   },
   "cell_type": "code",
   "source": [
    "from matplotlib import pyplot as plt\n",
    "\n",
    "fig1 = plt.figure(figsize=(5, 5))\n",
    "plt.scatter(x1[y == 0], x2[y == 0], color='red', label='0')\n",
    "plt.scatter(x1[y == 1], x2[y == 1], color='blue', label='1')\n",
    "plt.xlabel('x1')\n",
    "plt.ylabel('x2')\n",
    "plt.legend()\n",
    "plt.show()"
   ],
   "id": "cc79bdfac9cf402d",
   "outputs": [
    {
     "data": {
      "text/plain": [
       "<Figure size 500x500 with 1 Axes>"
      ],
      "image/png": "[encoded data removed]"
     },
     "metadata": {},
     "output_type": "display_data"
    }
   ],
   "execution_count": 27
  },
  {
   "metadata": {
    "ExecuteTime": {
     "end_time": "2024-06-17T03:24:19.656394Z",
     "start_time": "2024-06-17T03:24:19.593095Z"
    }
   },
   "cell_type": "code",
   "source": [
    "from sklearn.covariance import EllipticEnvelope\n",
    "\n",
    "ad_model = EllipticEnvelope(contamination=0.02)\n",
    "ad_model.fit(x[y==0])\n",
    "y_bad_pred = ad_model.predict(x[y==0])\n",
    "print(y_bad_pred)"
   ],
   "id": "44cca04b402ef97e",
   "outputs": [
    {
     "name": "stdout",
     "output_type": "stream",
     "text": [
      "[ 1  1  1  1  1  1  1  1  1  1  1  1  1  1  1  1  1  1 -1]\n"
     ]
    }
   ],
   "execution_count": 28
  },
  {
   "metadata": {
    "ExecuteTime": {
     "end_time": "2024-06-17T03:24:19.727819Z",
     "start_time": "2024-06-17T03:24:19.656394Z"
    }
   },
   "cell_type": "code",
   "source": [
    "ad_model2 = EllipticEnvelope(contamination=0.02)\n",
    "ad_model2.fit(x[y==1])\n",
    "y_good_pred = ad_model2.predict(x[y==1])\n",
    "print(y_good_pred)"
   ],
   "id": "20fb401ca68260bf",
   "outputs": [
    {
     "name": "stdout",
     "output_type": "stream",
     "text": [
      "[ 1  1 -1  1  1  1  1  1  1  1  1  1  1  1  1  1  1]\n"
     ]
    }
   ],
   "execution_count": 29
  },
  {
   "metadata": {
    "ExecuteTime": {
     "end_time": "2024-06-17T03:24:19.919494Z",
     "start_time": "2024-06-17T03:24:19.727819Z"
    }
   },
   "cell_type": "code",
   "source": [
    "fig2 = plt.figure(figsize=(8, 8))\n",
    "plt.scatter(x1[y == 0], x2[y == 0], color='red', label='0')\n",
    "plt.scatter(x1[y == 1], x2[y == 1], color='blue', label='1')\n",
    "plt.scatter(x1[y == 0][y_bad_pred == -1], x2[y == 0][y_bad_pred == -1], color='red', s=120, marker='x', label='outlier')\n",
    "plt.scatter(x1[y == 1][y_good_pred == -1], x2[ y == 1][y_good_pred == -1], color='blue', s=120, marker='x', label='outlier')\n",
    "plt.xlabel('x1')\n",
    "plt.ylabel('x2')\n",
    "plt.legend()\n",
    "plt.show()\n"
   ],
   "id": "2a9d57e6b903a845",
   "outputs": [
    {
     "data": {
      "text/plain": [
       "<Figure size 800x800 with 1 Axes>"
      ],
      "image/png": "[encoded data removed]"
     },
     "metadata": {},
     "output_type": "display_data"
    }
   ],
   "execution_count": 30
  },
  {
   "metadata": {},
   "cell_type": "markdown",
   "source": "# 2. PCA",
   "id": "a1d79619b231af15"
  },
  {
   "metadata": {
    "ExecuteTime": {
     "end_time": "2024-06-17T03:24:19.934086Z",
     "start_time": "2024-06-17T03:24:19.919494Z"
    }
   },
   "cell_type": "code",
   "source": [
    "data = pd.read_csv('data_class_processed.csv')\n",
    "data.head()"
   ],
   "id": "37e53f68e4e0f22c",
   "outputs": [
    {
     "data": {
      "text/plain": [
       "     x1    x2  y\n",
       "0  0.77  3.97  0\n",
       "1  1.71  2.81  0\n",
       "2  2.18  1.31  0\n",
       "3  3.80  0.69  0\n",
       "4  5.21  1.14  0"
      ],
      "text/html": [
       "<div>\n",
       "<style scoped>\n",
       "    .dataframe tbody tr th:only-of-type {\n",
       "        vertical-align: middle;\n",
       "    }\n",
       "\n",
       "    .dataframe tbody tr th {\n",
       "        vertical-align: top;\n",
       "    }\n",
       "\n",
       "    .dataframe thead th {\n",
       "        text-align: right;\n",
       "    }\n",
       "</style>\n",
       "<table border=\"1\" class=\"dataframe\">\n",
       "  <thead>\n",
       "    <tr style=\"text-align: right;\">\n",
       "      <th></th>\n",
       "      <th>x1</th>\n",
       "      <th>x2</th>\n",
       "      <th>y</th>\n",
       "    </tr>\n",
       "  </thead>\n",
       "  <tbody>\n",
       "    <tr>\n",
       "      <th>0</th>\n",
       "      <td>0.77</td>\n",
       "      <td>3.97</td>\n",
       "      <td>0</td>\n",
       "    </tr>\n",
       "    <tr>\n",
       "      <th>1</th>\n",
       "      <td>1.71</td>\n",
       "      <td>2.81</td>\n",
       "      <td>0</td>\n",
       "    </tr>\n",
       "    <tr>\n",
       "      <th>2</th>\n",
       "      <td>2.18</td>\n",
       "      <td>1.31</td>\n",
       "      <td>0</td>\n",
       "    </tr>\n",
       "    <tr>\n",
       "      <th>3</th>\n",
       "      <td>3.80</td>\n",
       "      <td>0.69</td>\n",
       "      <td>0</td>\n",
       "    </tr>\n",
       "    <tr>\n",
       "      <th>4</th>\n",
       "      <td>5.21</td>\n",
       "      <td>1.14</td>\n",
       "      <td>0</td>\n",
       "    </tr>\n",
       "  </tbody>\n",
       "</table>\n",
       "</div>"
      ]
     },
     "execution_count": 31,
     "metadata": {},
     "output_type": "execute_result"
    }
   ],
   "execution_count": 31
  },
  {
   "metadata": {
    "ExecuteTime": {
     "end_time": "2024-06-17T03:24:19.940460Z",
     "start_time": "2024-06-17T03:24:19.934086Z"
    }
   },
   "cell_type": "code",
   "source": [
    "x = data.drop('y', axis=1).values.reshape(-1, 2)\n",
    "y = data.loc[:, 'y']"
   ],
   "id": "c585a546ded6d4e7",
   "outputs": [],
   "execution_count": 32
  },
  {
   "metadata": {
    "ExecuteTime": {
     "end_time": "2024-06-17T03:24:19.949660Z",
     "start_time": "2024-06-17T03:24:19.940460Z"
    }
   },
   "cell_type": "code",
   "source": [
    "from sklearn.preprocessing import StandardScaler\n",
    "from sklearn.decomposition import PCA\n",
    "\n",
    "x_norm = StandardScaler().fit_transform(x)\n",
    "pca = PCA(n_components=2)\n",
    "x_reduced = pca.fit_transform(x_norm)\n",
    "var_ratio = pca.explained_variance_ratio_\n",
    "print(var_ratio)"
   ],
   "id": "414251ca1287bb19",
   "outputs": [
    {
     "name": "stdout",
     "output_type": "stream",
     "text": [
      "[0.5369408 0.4630592]\n"
     ]
    }
   ],
   "execution_count": 33
  },
  {
   "metadata": {
    "ExecuteTime": {
     "end_time": "2024-06-17T03:24:19.957948Z",
     "start_time": "2024-06-17T03:24:19.949660Z"
    }
   },
   "cell_type": "code",
   "source": [
    "from sklearn.model_selection import train_test_split\n",
    "\n",
    "x_train, x_test, y_train, y_test = train_test_split(x, y, test_size=0.4, random_state=4)\n",
    "print(x_train.shape, x_test.shape, x.shape)"
   ],
   "id": "ec65f1b1813cdf5c",
   "outputs": [
    {
     "name": "stdout",
     "output_type": "stream",
     "text": [
      "(21, 2) (14, 2) (35, 2)\n"
     ]
    }
   ],
   "execution_count": 34
  },
  {
   "metadata": {
    "ExecuteTime": {
     "end_time": "2024-06-17T03:24:19.972910Z",
     "start_time": "2024-06-17T03:24:19.957948Z"
    }
   },
   "cell_type": "code",
   "source": [
    "from sklearn.neighbors import KNeighborsClassifier\n",
    "\n",
    "knn10 = KNeighborsClassifier(n_neighbors=10)\n",
    "knn10.fit(x_train, y_train)\n",
    "\n",
    "y_train_pred = knn10.predict(x_train)\n",
    "y_test_pred = knn10.predict(x_test)"
   ],
   "id": "c1b1c7cc9fe07fd2",
   "outputs": [],
   "execution_count": 35
  },
  {
   "metadata": {
    "ExecuteTime": {
     "end_time": "2024-06-17T03:24:19.981995Z",
     "start_time": "2024-06-17T03:24:19.972910Z"
    }
   },
   "cell_type": "code",
   "source": [
    "from sklearn.metrics import accuracy_score\n",
    "\n",
    "accuracy_train = accuracy_score(y_train, y_train_pred)\n",
    "accuracy_test = accuracy_score(y_test, y_test_pred)\n",
    "print(accuracy_train, accuracy_test)"
   ],
   "id": "373e984bb5ccd18f",
   "outputs": [
    {
     "name": "stdout",
     "output_type": "stream",
     "text": [
      "0.9047619047619048 0.6428571428571429\n"
     ]
    }
   ],
   "execution_count": 36
  },
  {
   "metadata": {
    "ExecuteTime": {
     "end_time": "2024-06-17T03:24:19.988847Z",
     "start_time": "2024-06-17T03:24:19.981995Z"
    }
   },
   "cell_type": "code",
   "source": [
    "xx, yy = np.meshgrid(np.arange(0, 10, 0.05), np.arange(0, 10, 0.05))\n",
    "x_range = np.c_[xx.ravel(), yy.ravel()]\n",
    "print(x_range.shape)"
   ],
   "id": "ead94c3e07b37ac2",
   "outputs": [
    {
     "name": "stdout",
     "output_type": "stream",
     "text": [
      "(40000, 2)\n"
     ]
    }
   ],
   "execution_count": 37
  },
  {
   "metadata": {
    "ExecuteTime": {
     "end_time": "2024-06-17T03:24:43.580413Z",
     "start_time": "2024-06-17T03:24:43.536623Z"
    }
   },
   "cell_type": "code",
   "source": "y_range_pred = knn10.predict(x_range)",
   "id": "3745305c2b64da60",
   "outputs": [],
   "execution_count": 39
  },
  {
   "metadata": {
    "ExecuteTime": {
     "end_time": "2024-06-17T03:28:34.743777Z",
     "start_time": "2024-06-17T03:28:33.736670Z"
    }
   },
   "cell_type": "code",
   "source": [
    "fig3 = plt.figure(figsize=(8, 8))\n",
    "plt.scatter(x_range[y_range_pred == 0][:, 0], x_range[y_range_pred == 0][:, 1], color='red', s=0.5)\n",
    "plt.scatter(x_range[y_range_pred == 1][:, 0], x_range[y_range_pred == 1][:, 1], color='blue', s=0.5)\n",
    "plt.scatter(x[y == 0][:, 0], x[y == 0][:, 1], color='red', label='0')\n",
    "plt.scatter(x[y == 1][:, 0], x[y == 1][:, 1], color='blue', label='1')\n",
    "plt.xlabel('x1')\n",
    "plt.ylabel('x2')\n",
    "plt.legend()\n",
    "plt.show()"
   ],
   "id": "ef49e1bb513b4eeb",
   "outputs": [
    {
     "data": {
      "text/plain": [
       "<Figure size 800x800 with 1 Axes>"
      ],
      "image/png": "[encoded data removed]"
     },
     "metadata": {},
     "output_type": "display_data"
    }
   ],
   "execution_count": 41
  },
  {
   "metadata": {
    "ExecuteTime": {
     "end_time": "2024-06-17T03:31:22.469179Z",
     "start_time": "2024-06-17T03:31:22.458627Z"
    }
   },
   "cell_type": "code",
   "source": [
    "from sklearn.metrics import confusion_matrix\n",
    "\n",
    "cm = confusion_matrix(y_test, y_test_pred)\n",
    "TN = cm[0, 0]\n",
    "FP = cm[0, 1]\n",
    "FN = cm[1, 0]\n",
    "TP = cm[1, 1]\n",
    "print(TN, FP, FN, TP)"
   ],
   "id": "84d0d9a91c65a261",
   "outputs": [
    {
     "name": "stdout",
     "output_type": "stream",
     "text": [
      "4 2 3 5\n"
     ]
    }
   ],
   "execution_count": 43
  },
  {
   "metadata": {
    "ExecuteTime": {
     "end_time": "2024-06-17T03:35:03.423760Z",
     "start_time": "2024-06-17T03:35:03.418811Z"
    }
   },
   "cell_type": "code",
   "source": [
    "accuracy = (TP + TN) / (TN + FP + FN + TP)\n",
    "precision = TP / (TP + FP)\n",
    "recall = TP / (TP + FN)\n",
    "f1 = 2 * precision * recall / (precision + recall)\n",
    "print(accuracy, precision, recall, f1)"
   ],
   "id": "42cfbc51b3947708",
   "outputs": [
    {
     "name": "stdout",
     "output_type": "stream",
     "text": [
      "0.6428571428571429 0.7142857142857143 0.625 0.6666666666666666\n"
     ]
    }
   ],
   "execution_count": 45
  },
  {
   "metadata": {},
   "cell_type": "code",
   "outputs": [],
   "execution_count": null,
   "source": "",
   "id": "9dfc77ab5a7c8e20"
  }
 ],
 "metadata": {
  "kernelspec": {
   "display_name": "Python 3",
   "language": "python",
   "name": "python3"
  },
  "language_info": {
   "codemirror_mode": {
    "name": "ipython",
    "version": 2
   },
   "file_extension": ".py",
   "mimetype": "text/x-python",
   "name": "python",
   "nbconvert_exporter": "python",
   "pygments_lexer": "ipython2",
   "version": "2.7.6"
  }
 },
 "nbformat": 4,
 "nbformat_minor": 5
}
